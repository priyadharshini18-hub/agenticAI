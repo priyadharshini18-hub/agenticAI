{
 "cells": [
  {
   "cell_type": "markdown",
   "metadata": {},
   "source": [
    "## Welcome to Week 4, Day 4\n",
    "\n",
    "This is the start of an AWESOME project! Really simple and very effective."
   ]
  },
  {
   "cell_type": "code",
   "execution_count": 6,
   "metadata": {},
   "outputs": [
    {
     "name": "stdout",
     "output_type": "stream",
     "text": [
      "10.9.0\n",
      "\u001b[1G\u001b[0K"
     ]
    }
   ],
   "source": [
    "!npx --version"
   ]
  },
  {
   "cell_type": "code",
   "execution_count": 1,
   "metadata": {},
   "outputs": [],
   "source": [
    "from typing import Annotated\n",
    "from typing_extensions import TypedDict\n",
    "from langgraph.graph import StateGraph, START\n",
    "from langgraph.graph.message import add_messages\n",
    "from dotenv import load_dotenv\n",
    "from IPython.display import Image, display\n",
    "import gradio as gr\n",
    "from langgraph.prebuilt import ToolNode, tools_condition\n",
    "import requests\n",
    "import os\n",
    "from langchain.agents import Tool\n",
    "\n",
    "from langchain_openai import ChatOpenAI\n",
    "from langgraph.checkpoint.memory import MemorySaver"
   ]
  },
  {
   "cell_type": "code",
   "execution_count": 2,
   "metadata": {},
   "outputs": [
    {
     "data": {
      "text/plain": [
       "True"
      ]
     },
     "execution_count": 2,
     "metadata": {},
     "output_type": "execute_result"
    }
   ],
   "source": [
    "load_dotenv(override=True)"
   ]
  },
  {
   "cell_type": "markdown",
   "metadata": {},
   "source": [
    "### Asynchronous LangGraph\n",
    "\n",
    "To run a tool:  \n",
    "Sync: `tool.run(inputs)`  \n",
    "Async: `await tool.arun(inputs)`\n",
    "\n",
    "To invoke the graph:  \n",
    "Sync: `graph.invoke(state)`  \n",
    "Async: `await graph.ainvoke(state)`"
   ]
  },
  {
   "cell_type": "code",
   "execution_count": 3,
   "metadata": {},
   "outputs": [],
   "source": [
    "class State(TypedDict):\n",
    "    \n",
    "    messages: Annotated[list, add_messages]\n",
    "\n",
    "\n",
    "graph_builder = StateGraph(State)"
   ]
  },
  {
   "cell_type": "code",
   "execution_count": 4,
   "metadata": {},
   "outputs": [],
   "source": [
    "pushover_token = os.getenv(\"PUSHOVER_TOKEN\")\n",
    "pushover_user = os.getenv(\"PUSHOVER_USER\")\n",
    "pushover_url = \"https://api.pushover.net/1/messages.json\"\n",
    "\n",
    "def push(text: str):\n",
    "    \"\"\"Send a push notification to the user\"\"\"\n",
    "    requests.post(pushover_url, data = {\"token\": pushover_token, \"user\": pushover_user, \"message\": text})\n",
    "\n",
    "tool_push = Tool(\n",
    "        name=\"send_push_notification\",\n",
    "        func=push,\n",
    "        description=\"useful for when you want to send a push notification\"\n",
    "    )"
   ]
  },
  {
   "cell_type": "markdown",
   "metadata": {},
   "source": [
    "## Extra installation step - if you don't have Node and Playwright on your computer\n",
    "\n",
    "Next, you need to install NodeJS and Playwright on your computer if you don't already have them. Please see instructions here:\n",
    "\n",
    "[Node and Playwright setup](../setup/SETUP-node.md)"
   ]
  },
  {
   "cell_type": "markdown",
   "metadata": {},
   "source": [
    "## And now - after Installing Playwright, a heads up for Windows PC Users:\n",
    "\n",
    "While executing the next few cells, you might hit a problem with the Playwright browser raising a NotImplementedError.\n",
    "\n",
    "This should work when we move to python modules, but it can cause problems in Windows in a notebook.\n",
    "\n",
    "If you it this error and would like to run the notebook, you need to make a small change which seems quite hacky! You need to do this AFTER installing Playwright (prior cells)\n",
    "\n",
    "1. Right click in `.venv` in the File Explorer on the left and select \"Find in folder\"\n",
    "2. Search for `asyncio.set_event_loop_policy(WindowsSelectorEventLoopPolicy())`  \n",
    "3. That code should be found in a line of code in a file called `kernelapp.py`\n",
    "4. Comment out the entire else clause that this line is a part of - see the fragment below. Be sure to have the \"pass\" statement after the ImportError line.\n",
    "5. Restart the kernel by pressing the \"Restart\" button above\n",
    "\n",
    "```python\n",
    "        if sys.platform.startswith(\"win\") and sys.version_info >= (3, 8):\n",
    "            import asyncio\n",
    " \n",
    "            try:\n",
    "                from asyncio import WindowsProactorEventLoopPolicy, WindowsSelectorEventLoopPolicy\n",
    "            except ImportError:\n",
    "                pass\n",
    "                # not affected\n",
    "           # else:\n",
    "            #    if type(asyncio.get_event_loop_policy()) is WindowsProactorEventLoopPolicy:\n",
    "                    # WindowsProactorEventLoopPolicy is not compatible with tornado 6\n",
    "                    # fallback to the pre-3.8 default of Selector\n",
    "                    # asyncio.set_event_loop_policy(WindowsSelectorEventLoopPolicy())\n",
    "```\n",
    "\n",
    "Thank you to student Nicolas for finding this, and to Kalyan, Yaki, Zibin and Bhaskar for confirming that this worked for them! And to Vladislav for the extra pointers.\n",
    "\n",
    "As an alternative, you can just move to a Python module (which we do anyway in Day 5)"
   ]
  },
  {
   "cell_type": "code",
   "execution_count": 7,
   "metadata": {},
   "outputs": [],
   "source": [
    "# Introducing nest_asyncio\n",
    "# Python async code only allows for one \"event loop\" processing aynchronous events.\n",
    "# The `nest_asyncio` library patches this, and is used for special situations, if you need to run a nested event loop.\n",
    "\n",
    "import nest_asyncio\n",
    "nest_asyncio.apply()"
   ]
  },
  {
   "cell_type": "markdown",
   "metadata": {},
   "source": [
    "### The LangChain community\n",
    "\n",
    "One of the remarkable things about LangChain is the rich community around it.\n",
    "\n",
    "Check this out:\n"
   ]
  },
  {
   "cell_type": "code",
   "execution_count": 8,
   "metadata": {},
   "outputs": [],
   "source": [
    "from langchain_community.agent_toolkits import PlayWrightBrowserToolkit\n",
    "from langchain_community.tools.playwright.utils import create_async_playwright_browser\n",
    "\n",
    "# If you get a NotImplementedError here or later, see the Heads Up at the top of the notebook\n",
    "\n",
    "async_browser =  create_async_playwright_browser(headless=False)  # headful mode\n",
    "toolkit = PlayWrightBrowserToolkit.from_browser(async_browser=async_browser)\n",
    "tools = toolkit.get_tools()"
   ]
  },
  {
   "cell_type": "code",
   "execution_count": 9,
   "metadata": {},
   "outputs": [
    {
     "name": "stdout",
     "output_type": "stream",
     "text": [
      "click_element=async_browser=<Browser type=<BrowserType name=chromium executable_path=/Users/priya/Library/Caches/ms-playwright/chromium-1169/chrome-mac/Chromium.app/Contents/MacOS/Chromium> version=136.0.7103.25>\n",
      "navigate_browser=async_browser=<Browser type=<BrowserType name=chromium executable_path=/Users/priya/Library/Caches/ms-playwright/chromium-1169/chrome-mac/Chromium.app/Contents/MacOS/Chromium> version=136.0.7103.25>\n",
      "previous_webpage=async_browser=<Browser type=<BrowserType name=chromium executable_path=/Users/priya/Library/Caches/ms-playwright/chromium-1169/chrome-mac/Chromium.app/Contents/MacOS/Chromium> version=136.0.7103.25>\n",
      "extract_text=async_browser=<Browser type=<BrowserType name=chromium executable_path=/Users/priya/Library/Caches/ms-playwright/chromium-1169/chrome-mac/Chromium.app/Contents/MacOS/Chromium> version=136.0.7103.25>\n",
      "extract_hyperlinks=async_browser=<Browser type=<BrowserType name=chromium executable_path=/Users/priya/Library/Caches/ms-playwright/chromium-1169/chrome-mac/Chromium.app/Contents/MacOS/Chromium> version=136.0.7103.25>\n",
      "get_elements=async_browser=<Browser type=<BrowserType name=chromium executable_path=/Users/priya/Library/Caches/ms-playwright/chromium-1169/chrome-mac/Chromium.app/Contents/MacOS/Chromium> version=136.0.7103.25>\n",
      "current_webpage=async_browser=<Browser type=<BrowserType name=chromium executable_path=/Users/priya/Library/Caches/ms-playwright/chromium-1169/chrome-mac/Chromium.app/Contents/MacOS/Chromium> version=136.0.7103.25>\n"
     ]
    }
   ],
   "source": [
    "for tool in tools:\n",
    "    print(f\"{tool.name}={tool}\")"
   ]
  },
  {
   "cell_type": "code",
   "execution_count": 11,
   "metadata": {},
   "outputs": [],
   "source": [
    "tool_dict = {tool.name:tool for tool in tools}\n",
    "\n",
    "navigate_tool = tool_dict.get(\"navigate_browser\")\n",
    "extract_text_tool = tool_dict.get(\"extract_text\")\n",
    "\n",
    "    \n",
    "await navigate_tool.arun({\"url\": \"https://www.cnn.com\", \"timeout\": 60000})\n",
    "text = await extract_text_tool.arun({})"
   ]
  },
  {
   "cell_type": "code",
   "execution_count": 14,
   "metadata": {},
   "outputs": [
    {
     "name": "stdout",
     "output_type": "stream",
     "text": [
      "async_browser=<Browser type=<BrowserType name=chromium executable_path=/Users/priya/Library/Caches/ms-playwright/chromium-1169/chrome-mac/Chromium.app/Contents/MacOS/Chromium> version=136.0.7103.25>\n",
      "async_browser=<Browser type=<BrowserType name=chromium executable_path=/Users/priya/Library/Caches/ms-playwright/chromium-1169/chrome-mac/Chromium.app/Contents/MacOS/Chromium> version=136.0.7103.25>\n"
     ]
    }
   ],
   "source": [
    "print(navigate_tool)\n",
    "print(extract_text_tool)"
   ]
  },
  {
   "cell_type": "code",
   "execution_count": 12,
   "metadata": {},
   "outputs": [
    {
     "name": "stdout",
     "output_type": "stream",
     "text": [
      "Breaking News, Latest News and Videos | CNN CNN values your feedback\n",
      "1. How relevant is this ad to you? 2. Did you encounter any technical\n",
      "issues? No Video player was slow to load content Video content never\n",
      "loaded Ad froze or did not finish loading Video content did not start\n",
      "after ad Audio on ad was too loud Other issues Ad never loaded Ad\n",
      "prevented/slowed the page from loading Content moved around while ad\n",
      "loaded Ad was repetitive to ads I've seen previously Other issues\n",
      "Cancel Submit Thank You! Your effort and contribution in providing\n",
      "this feedback is much\n",
      "appreciated. Close Ad Feedback Close icon US World Politics Business\n",
      "Health Entertainment Style Travel Sports Science Climate Weather\n",
      "Ukraine-Russia War Israel-Hamas War Games More US World Politics\n",
      "Business Health Entertainment Style Travel Sports Science Climate\n",
      "Weather Ukraine-Russia War Israel-Hamas War Games Watch Listen Live TV\n",
      "Subscribe Sign in My Account Settings Newsletters Topics you follow\n",
      "Sign out Your CNN account Sign in to your CNN account Sign in My\n",
      "Account Settings Newsletters Topics you follow Sign out Your CNN\n",
      "account Sign in to your CNN account Live TV Listen Watch Edition US\n",
      "International Arabic Español Edition US International Arabic Español\n",
      "World Africa Americas Asia Australia China Europe India Middle East\n",
      "United Kingdom US Politics Trump Facts First CNN Polls 2025 Elections\n",
      "Business Tech Media Calculators Videos Markets Pre-markets After-Hours\n",
      "Fear & Greed Investing Markets Now Nightcap Health Life, But Better\n",
      "Fitness Food Sleep Mindfulness Relationships Entertainment Movies\n",
      "Television Celebrity Tech Innovate Foreseeable Future Mission: Ahead\n",
      "Work Transformed Innovative Cities Style Arts Design Fashion\n",
      "Architecture Luxury Beauty Video Travel Destinations Food & Drink Stay\n",
      "News Videos Sports Football Tennis Golf Motorsport US Sports Olympics\n",
      "Climbing Esports Hockey Science Space Life Unearthed Climate Solutions\n",
      "Weather Weather Video Climate Ukraine-Russia War Israel-Hamas War\n",
      "Features As Equals Call to Earth Freedom Project Impact Your World\n",
      "Inside Africa CNN Heroes Watch Live TV CNN Fast Shows A-Z CNN10 CNN\n",
      "Max CNN TV Schedules Listen CNN 5 Things Chasing Life with Dr. Sanjay\n",
      "Gupta The Assignment with Audie Cornish One Thing Tug of War CNN\n",
      "Political Briefing The Axe Files All There Is with Anderson Cooper All\n",
      "CNN Audio podcasts Games Daily Crossword Jumble Crossword Photo\n",
      "Shuffle Sudoblock Sudoku 5 Things Quiz About CNN Photos Investigations\n",
      "CNN Profiles CNN Leadership CNN Newsletters Work for CNN Follow CNN\n",
      "Rohingya refugees Breast explant surgery on the rise Emmy Awards\n",
      "Chinese overseas students Nazi underground city Having difficult talks\n",
      "with your son Bad Bunny Christian Criste/Getty Images Romania condemns\n",
      "‘irresponsible’ Moscow after Russian drone breaches its airspace\n",
      "Illustration by Alberto Mier/CNN A homeless youth asked a stranger for\n",
      "food. The man responded with a question that changed the kid’s life\n",
      "forever Photo illustration by Jhasua Razo/CNN Why do so many Latin\n",
      "American leaders have legal troubles? Investigators looking into note\n",
      "left by alleged Kirk shooter Show all • Live Updates Live Updates\n",
      "Cheney Orr/Reuters • Live Updates Live Updates Live Updates A note\n",
      "left by Tyler Robinson is under review for ‘accuracy and\n",
      "verification,’ and the suspect isn’t cooperating, Utah governor says\n",
      "Key questions remain about Kirk’s killing. Here’s what we know\n",
      "Standing by the vacant chair where her husband used to record “The\n",
      "Charlie Kirk Show,” Erika Kirk pledged to keep her husband’s legacy –\n",
      "including his campus tours and radio show – alive even after his\n",
      "death. Patel’s handling of Kirk killing investigation prompts anger\n",
      "inside and outside FBI • Video 1:17 CNN Video Utah governor pleads for\n",
      "national soul-searching amid political unrest 1:17 Tess Crowley/AP\n",
      "Kirk’s assassination is forcing politicians to make difficult choices\n",
      "about their safety Michael Ciaglo/Getty Images Kirk’s murder is the\n",
      "latest example of violence tearing through American politics Play\n",
      "Catch up on today's global news - Source: CNN Video Catch up on\n",
      "today’s global news Laura Oliverio/CNN Why breast explant surgery is\n",
      "on the rise Ian Hodgson/Getty Images Former world boxing champion\n",
      "Ricky Hatton dies aged 46 Yuichi Yamazaki/AFP/Getty Images\n",
      "Steeplechaser turns around during world championship race to help\n",
      "injured competitor reach finish line • Video 0:58 Clipped From Video\n",
      "Video ‘Is that real?’: Comedian reacts to JD Vance’s tweet 0:58 Ad\n",
      "Feedback More top stories Yousef Al Zanoun/AP Israel strikes high-\n",
      "rises in Gaza City, ahead of cabinet meeting to discuss risk of ground\n",
      "operation to hostages Final stage of Spain’s Vuelta cycling race\n",
      "suspended following pro-Palestinian protests How India secretly sent\n",
      "refugees back to the land accused of committing genocide against them\n",
      "US will have access to AUKUS nuclear submarine shipyard, Australia\n",
      "says Elon Musk says UK needs ‘revolutionary’ change of government in\n",
      "speech to anti-migrant rally Video Zelensky: US-Russia summit was\n",
      "‘successful’ for Putin 2:09 Weekend reading Courtesy Miral Watch out,\n",
      "Orlando, a new world theme park capital is rising in the Arabian\n",
      "desert Roy Rochlin/Getty Images He wears a red beret everywhere and\n",
      "once had 17 cats. Now he’s the wildcard of the NYC mayoral race Sep\n",
      "14, 2025 Surf Abu Dhabi $150 for a wave: the Abu Dhabi wave pool\n",
      "targeting the ultra-rich Sep 4, 2025 Ad Feedback America's economy Al\n",
      "Drago/Bloomberg/Getty Images A key market data point is signaling fear\n",
      "about America’s economy • Analysis Analysis Nathan\n",
      "Howard/Bloomberg/Getty Images Analysis Is the Fed behind the curve —\n",
      "again? Ad Feedback Emmy Awards Getty Images/Reuters From friendly\n",
      "competition to a timely charity push, the Emmys are shaping up to be\n",
      "an interesting night • Video 2:29 CNN This year’s Emmys host has a\n",
      "twist for winners and their acceptance speeches 2:29 • Video 2:28 CNN\n",
      "‘White Lotus’ star reveals how he makes his character’s accent ‘second\n",
      "nature’ 2:28 Ad Feedback US Politics Allison Bailey/AFP/Getty Images\n",
      "GOP Rep. Michael McCaul says he won’t seek reelection after decades in\n",
      "Congress George Frey/Bloomberg/Getty Images Trump’s next plan to lower\n",
      "US drug prices: Raise them in other countries Health & Wellness\n",
      "mediaphotos/iStockphoto/Getty Images Having difficult talks with your\n",
      "son should happen sooner than you might think, expert says • Video\n",
      "1:28 CNN Video The $4,000-a-kilo matcha redefining Japan’s green gold\n",
      "1:28 Ad Feedback Business & Tech Show all Carlos Barria/Reuters\n",
      "Rolling Stone, Billboard owner Penske sues Google over AI overviews\n",
      "Celebrities & Entertainment Show all David von Blohn/CNN How Puerto\n",
      "Rico’s biggest star helped boost his country’s economy Sports Daniela\n",
      "Porcelli/Getty Images American Melissa Jefferson-Wooden wins world\n",
      "title in women’s 100m and sets championship record Ad Feedback Crime &\n",
      "investigations New York Yankees Costa Rican authorities raid hotel in\n",
      "Miller Gardner death investigation SCIENCE & DISCOVERY Jonathan\n",
      "Romiguier Ant queen gives birth to two different species Art & style •\n",
      "CNN Exclusive CNN Exclusive CraigMcDean/Courtesy EE72 CNN Exclusive He\n",
      "quit a job nobody quits. Here’s what British Vogue’s former editor did\n",
      "next Call to Earth Show all • Video 0:41 MBARI Video Newly discovered\n",
      "species spotted swimming by underwater camera 0:41 Amanda Voisard for\n",
      "The Washington Post/Getty Images Rhinos went extinct in Uganda 40\n",
      "years ago. Now, a private ranch is home to almost 50 • Gallery Gallery\n",
      "EarnestTse/iStockphoto/Getty Images Gallery This huge bird flies from\n",
      "the Arctic to China. It’s been hunted to near extinction • Video 0:45\n",
      "Marisa Teitge/Knornschild Lab Video World’s largest carnivorous bat\n",
      "loves to cuddle 0:45 Ad Feedback More from CNN Royal Caribbean\n",
      "International It’s quadruplets! The world’s biggest cruise ship gets\n",
      "three super-sized sister ships The Trump administration has halted\n",
      "funds for global HIV/AIDS programs. No one knows how big the impact is\n",
      "Why it’s so hard to keep America’s public transit riders safe Trump\n",
      "issues an ultimatum for NATO countries on Russia sanctions Russia just\n",
      "said what Ukraine has been trying to tell Trump for months: Peace\n",
      "talks are going nowhere fast Far-right anti-immigration protests in\n",
      "London lead to clashes with police Rainn Wilson says ‘The Office’ was\n",
      "‘based around clueless, insensitive, racist, sexist people’ Vatican\n",
      "gathers world’s big thinkers ahead of first-ever pop concert Subscribe\n",
      "Sign in My Account Settings Newsletters Topics you follow Sign out\n",
      "Your CNN account Sign in to your CNN account Live TV Listen Watch\n",
      "World Africa Americas Asia Australia China Europe India Middle East\n",
      "United Kingdom US Politics Trump Facts First CNN Polls 2025 Elections\n",
      "Business Tech Media Calculators Videos Markets Pre-markets After-Hours\n",
      "Fear & Greed Investing Markets Now Nightcap Health Life, But Better\n",
      "Fitness Food Sleep Mindfulness Relationships Entertainment Movies\n",
      "Television Celebrity Tech Innovate Foreseeable Future Mission: Ahead\n",
      "Work Transformed Innovative Cities Style Arts Design Fashion\n",
      "Architecture Luxury Beauty Video Travel Destinations Food & Drink Stay\n",
      "News Videos Sports Football Tennis Golf Motorsport US Sports Olympics\n",
      "Climbing Esports Hockey Science Space Life Unearthed Climate Solutions\n",
      "Weather Weather Video Climate Ukraine-Russia War Israel-Hamas War\n",
      "Features As Equals Call to Earth Freedom Project Impact Your World\n",
      "Inside Africa CNN Heroes Watch Live TV CNN Fast Shows A-Z CNN10 CNN\n",
      "Max CNN TV Schedules Listen CNN 5 Things Chasing Life with Dr. Sanjay\n",
      "Gupta The Assignment with Audie Cornish One Thing Tug of War CNN\n",
      "Political Briefing The Axe Files All There Is with Anderson Cooper All\n",
      "CNN Audio podcasts Games Daily Crossword Jumble Crossword Photo\n",
      "Shuffle Sudoblock Sudoku 5 Things Quiz About CNN Photos Investigations\n",
      "CNN Profiles CNN Leadership CNN Newsletters Work for CNN Watch Listen\n",
      "Live TV Follow CNN Subscribe Sign in My Account Settings Newsletters\n",
      "Topics you follow Sign out Your CNN account Sign in to your CNN\n",
      "account Terms of Use Privacy Policy Manage Cookies Ad Choices\n",
      "Accessibility & CC About Newsletters Transcripts © 2025 Cable News\n",
      "Network. A Warner Bros. Discovery Company. All Rights Reserved. CNN\n",
      "Sans ™ & © 2016 Cable News Network. Privacy Policy For privacy\n",
      "options, please see our privacy policy: https://www.cnn.com/privacy .\n",
      "Back Button Cookie List Search Icon Filter Icon Clear checkbox label\n",
      "label Apply Cancel Consent Leg.Interest checkbox label label checkbox\n",
      "label label checkbox label label Close\n"
     ]
    }
   ],
   "source": [
    "import textwrap\n",
    "print(textwrap.fill(text))"
   ]
  },
  {
   "cell_type": "code",
   "execution_count": 15,
   "metadata": {},
   "outputs": [],
   "source": [
    "all_tools = tools + [tool_push]"
   ]
  },
  {
   "cell_type": "code",
   "execution_count": 20,
   "metadata": {},
   "outputs": [],
   "source": [
    "from langchain_groq import ChatGroq\n",
    "import os\n",
    "\n",
    "# Use Groq’s Llama 3.3 model\n",
    "llm = ChatGroq(\n",
    "    model=\"llama-3.3-70b-versatile\",\n",
    "    api_key=os.getenv(\"GROQ_API_KEY\")\n",
    ")\n",
    "\n",
    "llm_with_tools = llm.bind_tools(all_tools)\n",
    "\n",
    "def chatbot(state: State):\n",
    "    return {\"messages\": [llm_with_tools.invoke(state[\"messages\"])]}\n"
   ]
  },
  {
   "cell_type": "code",
   "execution_count": 21,
   "metadata": {},
   "outputs": [
    {
     "data": {
      "image/png": "[encoded data removed]",
      "text/plain": [
       "<IPython.core.display.Image object>"
      ]
     },
     "metadata": {},
     "output_type": "display_data"
    }
   ],
   "source": [
    "\n",
    "graph_builder = StateGraph(State)\n",
    "graph_builder.add_node(\"chatbot\", chatbot)\n",
    "graph_builder.add_node(\"tools\", ToolNode(tools=all_tools))\n",
    "graph_builder.add_conditional_edges( \"chatbot\", tools_condition, \"tools\")\n",
    "graph_builder.add_edge(\"tools\", \"chatbot\")\n",
    "graph_builder.add_edge(START, \"chatbot\")\n",
    "\n",
    "memory = MemorySaver()\n",
    "graph = graph_builder.compile(checkpointer=memory)\n",
    "display(Image(graph.get_graph().draw_mermaid_png()))"
   ]
  },
  {
   "cell_type": "code",
   "execution_count": 23,
   "metadata": {},
   "outputs": [
    {
     "name": "stdout",
     "output_type": "stream",
     "text": [
      "* Running on local URL:  http://127.0.0.1:7872\n",
      "* To create a public link, set `share=True` in `launch()`.\n"
     ]
    },
    {
     "data": {
      "text/html": [
       "<div><iframe src=\"http://127.0.0.1:7872/\" width=\"100%\" height=\"500\" allow=\"autoplay; camera; microphone; clipboard-read; clipboard-write;\" frameborder=\"0\" allowfullscreen></iframe></div>"
      ],
      "text/plain": [
       "<IPython.core.display.HTML object>"
      ]
     },
     "metadata": {},
     "output_type": "display_data"
    },
    {
     "data": {
      "text/plain": []
     },
     "execution_count": 23,
     "metadata": {},
     "output_type": "execute_result"
    }
   ],
   "source": [
    "config = {\"configurable\": {\"thread_id\": \"111\"}}\n",
    "\n",
    "async def chat(user_input: str, history):\n",
    "    result = await graph.ainvoke({\"messages\": [{\"role\": \"user\", \"content\": user_input}]}, config=config)\n",
    "    return result[\"messages\"][-1].content\n",
    "\n",
    "\n",
    "gr.ChatInterface(chat, type=\"messages\").launch()"
   ]
  },
  {
   "cell_type": "code",
   "execution_count": null,
   "metadata": {},
   "outputs": [],
   "source": []
  }
 ],
 "metadata": {
  "kernelspec": {
   "display_name": ".venv",
   "language": "python",
   "name": "python3"
  },
  "language_info": {
   "codemirror_mode": {
    "name": "ipython",
    "version": 3
   },
   "file_extension": ".py",
   "mimetype": "text/x-python",
   "name": "python",
   "nbconvert_exporter": "python",
   "pygments_lexer": "ipython3",
   "version": "3.12.11"
  }
 },
 "nbformat": 4,
 "nbformat_minor": 2
}
