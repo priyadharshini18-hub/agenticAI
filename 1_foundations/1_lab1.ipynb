{
 "cells": [
  {
   "cell_type": "markdown",
   "metadata": {},
   "source": [
    "# Welcome to the start of your adventure in Agentic AI"
   ]
  },
  {
   "cell_type": "markdown",
   "metadata": {},
   "source": [
    "<table style=\"margin: 0; text-align: left; width:100%\">\n",
    "    <tr>\n",
    "        <td style=\"width: 150px; height: 150px; vertical-align: middle;\">\n",
    "            <img src=\"../assets/stop.png\" width=\"150\" height=\"150\" style=\"display: block;\" />\n",
    "        </td>\n",
    "        <td>\n",
    "            <h2 style=\"color:#ff7800;\">Are you ready for action??</h2>\n",
    "            <span style=\"color:#ff7800;\">Have you completed all the setup steps in the <a href=\"../setup/\">setup</a> folder?<br/>\n",
    "            Have you read the <a href=\"../README.md\">README</a>? Many common questions are answered here!<br/>\n",
    "            Have you checked out the guides in the <a href=\"../guides/01_intro.ipynb\">guides</a> folder?<br/>\n",
    "            Well in that case, you're ready!!\n",
    "            </span>\n",
    "        </td>\n",
    "    </tr>\n",
    "</table>"
   ]
  },
  {
   "cell_type": "markdown",
   "metadata": {},
   "source": [
    "<table style=\"margin: 0; text-align: left; width:100%\">\n",
    "    <tr>\n",
    "        <td style=\"width: 150px; height: 150px; vertical-align: middle;\">\n",
    "            <img src=\"../assets/tools.png\" width=\"150\" height=\"150\" style=\"display: block;\" />\n",
    "        </td>\n",
    "        <td>\n",
    "            <h2 style=\"color:#00bfff;\">This code is a live resource - keep an eye out for my updates</h2>\n",
    "            <span style=\"color:#00bfff;\">I push updates regularly. As people ask questions or have problems, I add more examples and improve explanations. As a result, the code below might not be identical to the videos, as I've added more steps and better comments. Consider this like an interactive book that accompanies the lectures.<br/><br/>\n",
    "            I try to send emails regularly with important updates related to the course. You can find this in the 'Announcements' section of Udemy in the left sidebar. You can also choose to receive my emails via your Notification Settings in Udemy. I'm respectful of your inbox and always try to add value with my emails!\n",
    "            </span>\n",
    "        </td>\n",
    "    </tr>\n",
    "</table>"
   ]
  },
  {
   "cell_type": "markdown",
   "metadata": {},
   "source": [
    "### And please do remember to contact me if I can help\n",
    "\n",
    "And I love to connect: https://www.linkedin.com/in/eddonner/\n",
    "\n",
    "\n",
    "### New to Notebooks like this one? Head over to the guides folder!\n",
    "\n",
    "Just to check you've already added the Python and Jupyter extensions to Cursor, if not already installed:\n",
    "- Open extensions (View >> extensions)\n",
    "- Search for python, and when the results show, click on the ms-python one, and Install it if not already installed\n",
    "- Search for jupyter, and when the results show, click on the Microsoft one, and Install it if not already installed  \n",
    "Then View >> Explorer to bring back the File Explorer.\n",
    "\n",
    "And then:\n",
    "1. Click where it says \"Select Kernel\" near the top right, and select the option called `.venv (Python 3.12.9)` or similar, which should be the first choice or the most prominent choice. You may need to choose \"Python Environments\" first.\n",
    "2. Click in each \"cell\" below, starting with the cell immediately below this text, and press Shift+Enter to run\n",
    "3. Enjoy!\n",
    "\n",
    "After you click \"Select Kernel\", if there is no option like `.venv (Python 3.12.9)` then please do the following:  \n",
    "1. On Mac: From the Cursor menu, choose Settings >> VS Code Settings (NOTE: be sure to select `VSCode Settings` not `Cursor Settings`);  \n",
    "On Windows PC: From the File menu, choose Preferences >> VS Code Settings(NOTE: be sure to select `VSCode Settings` not `Cursor Settings`)  \n",
    "2. In the Settings search bar, type \"venv\"  \n",
    "3. In the field \"Path to folder with a list of Virtual Environments\" put the path to the project root, like C:\\Users\\username\\projects\\agents (on a Windows PC) or /Users/username/projects/agents (on Mac or Linux).  \n",
    "And then try again.\n",
    "\n",
    "Having problems with missing Python versions in that list? Have you ever used Anaconda before? It might be interferring. Quit Cursor, bring up a new command line, and make sure that your Anaconda environment is deactivated:    \n",
    "`conda deactivate`  \n",
    "And if you still have any problems with conda and python versions, it's possible that you will need to run this too:  \n",
    "`conda config --set auto_activate_base false`  \n",
    "and then from within the Agents directory, you should be able to run `uv python list` and see the Python 3.12 version."
   ]
  },
  {
   "cell_type": "code",
   "execution_count": 1,
   "metadata": {},
   "outputs": [],
   "source": [
    "# First let's do an import. If you get an Import Error, double check that your Kernel is correct..\n",
    "\n",
    "from dotenv import load_dotenv\n"
   ]
  },
  {
   "cell_type": "code",
   "execution_count": 2,
   "metadata": {},
   "outputs": [
    {
     "data": {
      "text/plain": [
       "True"
      ]
     },
     "execution_count": 2,
     "metadata": {},
     "output_type": "execute_result"
    }
   ],
   "source": [
    "# Next it's time to load the API keys into environment variables\n",
    "# If this returns false, see the next cell!\n",
    "\n",
    "load_dotenv(override=True)"
   ]
  },
  {
   "cell_type": "markdown",
   "metadata": {},
   "source": [
    "### Wait, did that just output `False`??\n",
    "\n",
    "If so, the most common reason is that you didn't save your `.env` file after adding the key! Be sure to have saved.\n",
    "\n",
    "Also, make sure the `.env` file is named precisely `.env` and is in the project root directory (`agents`)\n",
    "\n",
    "By the way, your `.env` file should have a stop symbol next to it in Cursor on the left, and that's actually a good thing: that's Cursor saying to you, \"hey, I realize this is a file filled with secret information, and I'm not going to send it to an external AI to suggest changes, because your keys should not be shown to anyone else.\""
   ]
  },
  {
   "cell_type": "markdown",
   "metadata": {},
   "source": [
    "<table style=\"margin: 0; text-align: left; width:100%\">\n",
    "    <tr>\n",
    "        <td style=\"width: 150px; height: 150px; vertical-align: middle;\">\n",
    "            <img src=\"../assets/stop.png\" width=\"150\" height=\"150\" style=\"display: block;\" />\n",
    "        </td>\n",
    "        <td>\n",
    "            <h2 style=\"color:#ff7800;\">Final reminders</h2>\n",
    "            <span style=\"color:#ff7800;\">1. If you're not confident about Environment Variables or Web Endpoints / APIs, please read Topics 3 and 5 in this <a href=\"../guides/04_technical_foundations.ipynb\">technical foundations guide</a>.<br/>\n",
    "            2. If you want to use AIs other than OpenAI, like Gemini, DeepSeek or Ollama (free), please see the first section in this <a href=\"../guides/09_ai_apis_and_ollama.ipynb\">AI APIs guide</a>.<br/>\n",
    "            3. If you ever get a Name Error in Python, you can always fix it immediately; see the last section of this <a href=\"../guides/06_python_foundations.ipynb\">Python Foundations guide</a> and follow both tutorials and exercises.<br/>\n",
    "            </span>\n",
    "        </td>\n",
    "    </tr>\n",
    "</table>"
   ]
  },
  {
   "cell_type": "code",
   "execution_count": 15,
   "metadata": {},
   "outputs": [
    {
     "name": "stdout",
     "output_type": "stream",
     "text": [
      "GEMINI API Key exists and begins AIzaSyBZ\n"
     ]
    }
   ],
   "source": [
    "# Check the key - if you're not using OpenAI, check whichever key you're using! Ollama doesn't need a key.\n",
    "\n",
    "import os\n",
    "GEMINI_API_KEY = os.getenv('GEMINI_API_KEY')\n",
    "\n",
    "if GEMINI_API_KEY:\n",
    "    print(f\"GEMINI API Key exists and begins {GEMINI_API_KEY[:8]}\")\n",
    "else:\n",
    "    print(\"GEMINI API Key not set - please head to the troubleshooting guide in the setup folder\")\n",
    "    \n"
   ]
  },
  {
   "cell_type": "code",
   "execution_count": 13,
   "metadata": {},
   "outputs": [],
   "source": [
    "# And now - the all important import statement\n",
    "# If you get an import error - head over to troubleshooting in the Setup folder\n",
    "# Even for other LLM providers like Gemini, you still use this OpenAI import - see Guide 9 for why\n",
    "\n",
    "# from openai import OpenAI\n",
    "import google.generativeai as genai"
   ]
  },
  {
   "cell_type": "code",
   "execution_count": 16,
   "metadata": {},
   "outputs": [],
   "source": [
    "# And now we'll create an instance of the OpenAI class\n",
    "# If you're not sure what it means to create an instance of a class - head over to the guides folder (guide 6)!\n",
    "# If you get a NameError - head over to the guides folder (guide 6)to learn about NameErrors - always instantly fixable\n",
    "# If you're not using OpenAI, you just need to slightly modify this - precise instructions are in the AI APIs guide (guide 9)\n",
    "\n",
    "genai.configure(api_key=GEMINI_API_KEY)"
   ]
  },
  {
   "cell_type": "code",
   "execution_count": 17,
   "metadata": {},
   "outputs": [
    {
     "name": "stdout",
     "output_type": "stream",
     "text": [
      "2 + 2 = 4\n",
      "\n"
     ]
    }
   ],
   "source": [
    "# Create a model instance (free tier)\n",
    "model = genai.GenerativeModel(\"gemini-1.5-flash\")\n",
    "\n",
    "# Simple prompt\n",
    "prompt = \"What is 2+2?\"\n",
    "\n",
    "# Generate response\n",
    "response = model.generate_content(prompt)\n",
    "\n",
    "# Print the output\n",
    "print(response.text)"
   ]
  },
  {
   "cell_type": "code",
   "execution_count": 18,
   "metadata": {},
   "outputs": [],
   "source": [
    "# And now - let's ask for a question:\n",
    "\n",
    "question = \"Please propose a hard, challenging question to assess someone's python technical knowledge. Respond only with the question.\"\n",
    "tech_question = model.generate_content(question)\n"
   ]
  },
  {
   "cell_type": "code",
   "execution_count": 20,
   "metadata": {},
   "outputs": [
    {
     "name": "stdout",
     "output_type": "stream",
     "text": [
      "Explain the intricacies of Python's garbage collection mechanism, including reference counting, cycle detection, and generational garbage collection, and discuss the potential performance implications and trade-offs involved in each aspect.  How might these impact the design of long-running, memory-intensive applications?\n"
     ]
    }
   ],
   "source": [
    "# Extract the text\n",
    "question = tech_question.candidates[0].content.parts[0].text\n",
    "\n",
    "# Print cleanly\n",
    "print(question.strip())"
   ]
  },
  {
   "cell_type": "code",
   "execution_count": 21,
   "metadata": {},
   "outputs": [],
   "source": [
    "prompt = question + 'Provide response to answer this question to recruiter in technical interview'\n",
    "response = model.generate_content(prompt)"
   ]
  },
  {
   "cell_type": "code",
   "execution_count": 22,
   "metadata": {},
   "outputs": [
    {
     "name": "stdout",
     "output_type": "stream",
     "text": [
      "response:\n",
      "GenerateContentResponse(\n",
      "    done=True,\n",
      "    iterator=None,\n",
      "    result=protos.GenerateContentResponse({\n",
      "      \"candidates\": [\n",
      "        {\n",
      "          \"content\": {\n",
      "            \"parts\": [\n",
      "              {\n",
      "                \"text\": \"Python's garbage collection (GC) is a crucial aspect of its runtime environment, ensuring memory is automatically managed and preventing memory leaks.  It's a hybrid system, primarily relying on reference counting but incorporating a cycle-detecting garbage collector to handle circular references. Let's break down the intricacies:\\n\\n**1. Reference Counting:**\\n\\n* **Mechanism:**  Every object in Python maintains a count of how many references point to it. When this count drops to zero, the object is immediately deallocated. This is a very efficient, low-overhead mechanism for most cases.  It's deterministic \\u2013 the memory is freed precisely when the object is no longer needed.\\n* **Performance Implications:**  Fast and predictable.  The overhead is minimal because the increment/decrement operations are relatively cheap.  However, it necessitates maintaining the reference count, adding a slight overhead to object creation and deletion.\\n* **Trade-offs:**  The major drawback is its inability to handle circular references.  If objects A and B refer to each other, their reference counts will never reach zero, even if they're unreachable from the rest of the program, leading to memory leaks.\\n\\n**2. Cycle Detection (Cyclic Garbage Collection):**\\n\\n* **Mechanism:** To address the limitations of reference counting, Python employs a cycle-detecting garbage collector based on a variation of a tracing algorithm. This runs periodically (non-deterministically) to identify and reclaim memory occupied by cyclically referenced objects.  The specific algorithm employed in CPython (the standard implementation) involves marking and sweeping. It identifies unreachable cycles and reclaims the memory occupied by those cycles.\\n* **Performance Implications:**  Cycle detection introduces non-deterministic pauses in application execution. The frequency and duration of these pauses depend on the amount of garbage and the system load.  These pauses can be significant in memory-intensive or long-running applications. The cycle detection algorithm itself adds overhead, although it only runs periodically.\\n* **Trade-offs:**  Essential for preventing memory leaks caused by circular references, but it introduces unpredictable pauses which can affect application responsiveness. Tuning the frequency and aggressiveness of the cycle detection is a balancing act.\\n\\n**3. Generational Garbage Collection (in CPython 3.7+):**\\n\\n* **Mechanism:** CPython's newer garbage collectors incorporate a generational approach.  Objects are categorized into generations based on their age.  Newer objects (generation 0) are more likely to become garbage quickly. The collector focuses its efforts more on younger generations, reducing the frequency of full scans. This improves performance significantly.\\n* **Performance Implications:**  Generational GC reduces the frequency and duration of garbage collection pauses, especially in applications with a high object churn rate.  By prioritizing younger generations, it minimizes the effort spent on long-lived objects that are less likely to become garbage soon.\\n* **Trade-offs:**  Adds complexity to the GC implementation but yields substantial performance benefits in most cases.  The generational strategy provides better scaling for applications creating and discarding many objects quickly.\\n\\n\\n**Impact on Long-Running, Memory-Intensive Applications:**\\n\\nIn long-running, memory-intensive applications, the choice of GC strategy significantly impacts performance and stability.  \\n\\n* **Memory Leaks:** Without cycle detection, circular references would eventually exhaust available memory, causing crashes or severely degraded performance.\\n* **GC Pauses:** The pauses introduced by cycle detection can be unacceptable for applications demanding high responsiveness (e.g., real-time systems or interactive applications). Careful tuning (though often platform-specific) might be needed to balance throughput and latency.  The generational approach helps mitigate this problem.\\n* **Memory Management Strategies:** For such applications, optimizing memory usage through techniques like object pooling, efficient data structures, and timely resource release (even beyond automatic GC) is crucial.  These strategies complement the GC and can minimize its load.\\n\\n**Answer for a Technical Interview:**\\n\\n\\\"Python's garbage collection is a hybrid system combining reference counting and a cycle-detecting garbage collector, leveraging generational collection in modern versions.  Reference counting is highly efficient but susceptible to circular references.  Cycle detection solves this but introduces non-deterministic pauses. Generational GC aims to reduce these pauses by prioritizing younger generations of objects.  In long-running, memory-intensive applications, these pauses are a key concern.  Therefore, designing such applications requires careful consideration of memory usage patterns, potentially employing techniques like object pooling and careful data structure choices to minimize the load on the garbage collector, making the GC's work easier and reducing the impact of pauses.\\\"  You might then follow up by asking about their experiences with GC tuning or performance optimization in similar projects.\\n\"\n",
      "              }\n",
      "            ],\n",
      "            \"role\": \"model\"\n",
      "          },\n",
      "          \"finish_reason\": \"STOP\",\n",
      "          \"avg_logprobs\": -0.5132569502593327\n",
      "        }\n",
      "      ],\n",
      "      \"usage_metadata\": {\n",
      "        \"prompt_token_count\": 67,\n",
      "        \"candidates_token_count\": 961,\n",
      "        \"total_token_count\": 1028\n",
      "      },\n",
      "      \"model_version\": \"gemini-1.5-flash\"\n",
      "    }),\n",
      ")\n"
     ]
    }
   ],
   "source": [
    "print(response)"
   ]
  },
  {
   "cell_type": "code",
   "execution_count": 23,
   "metadata": {},
   "outputs": [
    {
     "name": "stdout",
     "output_type": "stream",
     "text": [
      "Python's garbage collection (GC) is a crucial aspect of its runtime environment, ensuring memory is automatically managed and preventing memory leaks.  It's a hybrid system, primarily relying on reference counting but incorporating a cycle-detecting garbage collector to handle circular references. Let's break down the intricacies:\n",
      "\n",
      "**1. Reference Counting:**\n",
      "\n",
      "* **Mechanism:**  Every object in Python maintains a count of how many references point to it. When this count drops to zero, the object is immediately deallocated. This is a very efficient, low-overhead mechanism for most cases.  It's deterministic – the memory is freed precisely when the object is no longer needed.\n",
      "* **Performance Implications:**  Fast and predictable.  The overhead is minimal because the increment/decrement operations are relatively cheap.  However, it necessitates maintaining the reference count, adding a slight overhead to object creation and deletion.\n",
      "* **Trade-offs:**  The major drawback is its inability to handle circular references.  If objects A and B refer to each other, their reference counts will never reach zero, even if they're unreachable from the rest of the program, leading to memory leaks.\n",
      "\n",
      "**2. Cycle Detection (Cyclic Garbage Collection):**\n",
      "\n",
      "* **Mechanism:** To address the limitations of reference counting, Python employs a cycle-detecting garbage collector based on a variation of a tracing algorithm. This runs periodically (non-deterministically) to identify and reclaim memory occupied by cyclically referenced objects.  The specific algorithm employed in CPython (the standard implementation) involves marking and sweeping. It identifies unreachable cycles and reclaims the memory occupied by those cycles.\n",
      "* **Performance Implications:**  Cycle detection introduces non-deterministic pauses in application execution. The frequency and duration of these pauses depend on the amount of garbage and the system load.  These pauses can be significant in memory-intensive or long-running applications. The cycle detection algorithm itself adds overhead, although it only runs periodically.\n",
      "* **Trade-offs:**  Essential for preventing memory leaks caused by circular references, but it introduces unpredictable pauses which can affect application responsiveness. Tuning the frequency and aggressiveness of the cycle detection is a balancing act.\n",
      "\n",
      "**3. Generational Garbage Collection (in CPython 3.7+):**\n",
      "\n",
      "* **Mechanism:** CPython's newer garbage collectors incorporate a generational approach.  Objects are categorized into generations based on their age.  Newer objects (generation 0) are more likely to become garbage quickly. The collector focuses its efforts more on younger generations, reducing the frequency of full scans. This improves performance significantly.\n",
      "* **Performance Implications:**  Generational GC reduces the frequency and duration of garbage collection pauses, especially in applications with a high object churn rate.  By prioritizing younger generations, it minimizes the effort spent on long-lived objects that are less likely to become garbage soon.\n",
      "* **Trade-offs:**  Adds complexity to the GC implementation but yields substantial performance benefits in most cases.  The generational strategy provides better scaling for applications creating and discarding many objects quickly.\n",
      "\n",
      "\n",
      "**Impact on Long-Running, Memory-Intensive Applications:**\n",
      "\n",
      "In long-running, memory-intensive applications, the choice of GC strategy significantly impacts performance and stability.  \n",
      "\n",
      "* **Memory Leaks:** Without cycle detection, circular references would eventually exhaust available memory, causing crashes or severely degraded performance.\n",
      "* **GC Pauses:** The pauses introduced by cycle detection can be unacceptable for applications demanding high responsiveness (e.g., real-time systems or interactive applications). Careful tuning (though often platform-specific) might be needed to balance throughput and latency.  The generational approach helps mitigate this problem.\n",
      "* **Memory Management Strategies:** For such applications, optimizing memory usage through techniques like object pooling, efficient data structures, and timely resource release (even beyond automatic GC) is crucial.  These strategies complement the GC and can minimize its load.\n",
      "\n",
      "**Answer for a Technical Interview:**\n",
      "\n",
      "\"Python's garbage collection is a hybrid system combining reference counting and a cycle-detecting garbage collector, leveraging generational collection in modern versions.  Reference counting is highly efficient but susceptible to circular references.  Cycle detection solves this but introduces non-deterministic pauses. Generational GC aims to reduce these pauses by prioritizing younger generations of objects.  In long-running, memory-intensive applications, these pauses are a key concern.  Therefore, designing such applications requires careful consideration of memory usage patterns, potentially employing techniques like object pooling and careful data structure choices to minimize the load on the garbage collector, making the GC's work easier and reducing the impact of pauses.\"  You might then follow up by asking about their experiences with GC tuning or performance optimization in similar projects.\n"
     ]
    }
   ],
   "source": [
    "answer = response.candidates[0].content.parts[0].text\n",
    "print(answer.strip())"
   ]
  },
  {
   "cell_type": "code",
   "execution_count": 24,
   "metadata": {},
   "outputs": [
    {
     "data": {
      "text/markdown": [
       "Python's garbage collection (GC) is a crucial aspect of its runtime environment, ensuring memory is automatically managed and preventing memory leaks.  It's a hybrid system, primarily relying on reference counting but incorporating a cycle-detecting garbage collector to handle circular references. Let's break down the intricacies:\n",
       "\n",
       "**1. Reference Counting:**\n",
       "\n",
       "* **Mechanism:**  Every object in Python maintains a count of how many references point to it. When this count drops to zero, the object is immediately deallocated. This is a very efficient, low-overhead mechanism for most cases.  It's deterministic – the memory is freed precisely when the object is no longer needed.\n",
       "* **Performance Implications:**  Fast and predictable.  The overhead is minimal because the increment/decrement operations are relatively cheap.  However, it necessitates maintaining the reference count, adding a slight overhead to object creation and deletion.\n",
       "* **Trade-offs:**  The major drawback is its inability to handle circular references.  If objects A and B refer to each other, their reference counts will never reach zero, even if they're unreachable from the rest of the program, leading to memory leaks.\n",
       "\n",
       "**2. Cycle Detection (Cyclic Garbage Collection):**\n",
       "\n",
       "* **Mechanism:** To address the limitations of reference counting, Python employs a cycle-detecting garbage collector based on a variation of a tracing algorithm. This runs periodically (non-deterministically) to identify and reclaim memory occupied by cyclically referenced objects.  The specific algorithm employed in CPython (the standard implementation) involves marking and sweeping. It identifies unreachable cycles and reclaims the memory occupied by those cycles.\n",
       "* **Performance Implications:**  Cycle detection introduces non-deterministic pauses in application execution. The frequency and duration of these pauses depend on the amount of garbage and the system load.  These pauses can be significant in memory-intensive or long-running applications. The cycle detection algorithm itself adds overhead, although it only runs periodically.\n",
       "* **Trade-offs:**  Essential for preventing memory leaks caused by circular references, but it introduces unpredictable pauses which can affect application responsiveness. Tuning the frequency and aggressiveness of the cycle detection is a balancing act.\n",
       "\n",
       "**3. Generational Garbage Collection (in CPython 3.7+):**\n",
       "\n",
       "* **Mechanism:** CPython's newer garbage collectors incorporate a generational approach.  Objects are categorized into generations based on their age.  Newer objects (generation 0) are more likely to become garbage quickly. The collector focuses its efforts more on younger generations, reducing the frequency of full scans. This improves performance significantly.\n",
       "* **Performance Implications:**  Generational GC reduces the frequency and duration of garbage collection pauses, especially in applications with a high object churn rate.  By prioritizing younger generations, it minimizes the effort spent on long-lived objects that are less likely to become garbage soon.\n",
       "* **Trade-offs:**  Adds complexity to the GC implementation but yields substantial performance benefits in most cases.  The generational strategy provides better scaling for applications creating and discarding many objects quickly.\n",
       "\n",
       "\n",
       "**Impact on Long-Running, Memory-Intensive Applications:**\n",
       "\n",
       "In long-running, memory-intensive applications, the choice of GC strategy significantly impacts performance and stability.  \n",
       "\n",
       "* **Memory Leaks:** Without cycle detection, circular references would eventually exhaust available memory, causing crashes or severely degraded performance.\n",
       "* **GC Pauses:** The pauses introduced by cycle detection can be unacceptable for applications demanding high responsiveness (e.g., real-time systems or interactive applications). Careful tuning (though often platform-specific) might be needed to balance throughput and latency.  The generational approach helps mitigate this problem.\n",
       "* **Memory Management Strategies:** For such applications, optimizing memory usage through techniques like object pooling, efficient data structures, and timely resource release (even beyond automatic GC) is crucial.  These strategies complement the GC and can minimize its load.\n",
       "\n",
       "**Answer for a Technical Interview:**\n",
       "\n",
       "\"Python's garbage collection is a hybrid system combining reference counting and a cycle-detecting garbage collector, leveraging generational collection in modern versions.  Reference counting is highly efficient but susceptible to circular references.  Cycle detection solves this but introduces non-deterministic pauses. Generational GC aims to reduce these pauses by prioritizing younger generations of objects.  In long-running, memory-intensive applications, these pauses are a key concern.  Therefore, designing such applications requires careful consideration of memory usage patterns, potentially employing techniques like object pooling and careful data structure choices to minimize the load on the garbage collector, making the GC's work easier and reducing the impact of pauses.\"  You might then follow up by asking about their experiences with GC tuning or performance optimization in similar projects.\n"
      ],
      "text/plain": [
       "<IPython.core.display.Markdown object>"
      ]
     },
     "metadata": {},
     "output_type": "display_data"
    }
   ],
   "source": [
    "from IPython.display import Markdown, display\n",
    "\n",
    "display(Markdown(answer))\n",
    "\n"
   ]
  },
  {
   "cell_type": "markdown",
   "metadata": {},
   "source": [
    "# Congratulations!\n",
    "\n",
    "That was a small, simple step in the direction of Agentic AI, with your new environment!\n",
    "\n",
    "Next time things get more interesting..."
   ]
  },
  {
   "cell_type": "markdown",
   "metadata": {},
   "source": [
    "<table style=\"margin: 0; text-align: left; width:100%\">\n",
    "    <tr>\n",
    "        <td style=\"width: 150px; height: 150px; vertical-align: middle;\">\n",
    "            <img src=\"../assets/exercise.png\" width=\"150\" height=\"150\" style=\"display: block;\" />\n",
    "        </td>\n",
    "        <td>\n",
    "            <h2 style=\"color:#ff7800;\">Exercise</h2>\n",
    "            <span style=\"color:#ff7800;\">Now try this commercial application:<br/>\n",
    "            First ask the LLM to pick a business area that might be worth exploring for an Agentic AI opportunity.<br/>\n",
    "            Then ask the LLM to present a pain-point in that industry - something challenging that might be ripe for an Agentic solution.<br/>\n",
    "            Finally have 3 third LLM call propose the Agentic AI solution. <br/>\n",
    "            We will cover this at up-coming labs, so don't worry if you're unsure.. just give it a try!\n",
    "            </span>\n",
    "        </td>\n",
    "    </tr>\n",
    "</table>"
   ]
  },
  {
   "cell_type": "code",
   "execution_count": null,
   "metadata": {},
   "outputs": [],
   "source": [
    "# Course Registration From UC Davis Schedule Builder\n",
    "\n",
    "prompt = 'I am a ucdavis computer science graduate student. I want to register for 1 upper division course for fall quarter 2025. The course should be ECS 200 and above (eg- ECS 222, ECS 260 but not ECS 190). The class schedule should be on tuesdays and thursdays. Suggest me some courses that meet this requirement'\n",
    "\n",
    "suggestions = model.generate_content(prompt)"
   ]
  },
  {
   "cell_type": "code",
   "execution_count": 26,
   "metadata": {},
   "outputs": [
    {
     "name": "stdout",
     "output_type": "stream",
     "text": [
      "I do not have access to real-time information, including live course schedules from UC Davis.  Course offerings, days, and times change frequently.\n",
      "\n",
      "To find suitable ECS courses for Fall 2025 at UC Davis that meet your criteria (ECS 200+, Tuesday/Thursday schedule), you must consult the official UC Davis course schedule when it becomes available.  This usually happens several months before the quarter begins.\n",
      "\n",
      "Here's how to find this information:\n",
      "\n",
      "1. **Check the UC Davis Registrar's website:** This is the official source. Look for the \"Course Schedule\" or \"Schedule of Classes\" section. You'll likely need to select the academic year (2025-2026) and the Fall quarter.\n",
      "2. **Search by Department:**  Once on the course schedule page, search specifically for courses within the \"ECS\" (Electrical and Computer Engineering) department.\n",
      "3. **Filter by Course Number:** Filter the results to show only courses numbered ECS 200 and above.\n",
      "4. **Filter by Day:** Filter the results to show only classes meeting on Tuesdays and Thursdays.\n",
      "\n",
      "Remember that even if a course is *typically* offered on Tuesdays and Thursdays, the actual schedule for Fall 2025 might differ.  **Always rely on the official schedule published by the university.**\n"
     ]
    }
   ],
   "source": [
    "course_suggestions = suggestions.candidates[0].content.parts[0].text\n",
    "print(course_suggestions.strip())"
   ]
  },
  {
   "cell_type": "markdown",
   "metadata": {},
   "source": []
  }
 ],
 "metadata": {
  "kernelspec": {
   "display_name": ".venv",
   "language": "python",
   "name": "python3"
  },
  "language_info": {
   "codemirror_mode": {
    "name": "ipython",
    "version": 3
   },
   "file_extension": ".py",
   "mimetype": "text/x-python",
   "name": "python",
   "nbconvert_exporter": "python",
   "pygments_lexer": "ipython3",
   "version": "3.12.11"
  }
 },
 "nbformat": 4,
 "nbformat_minor": 2
}
