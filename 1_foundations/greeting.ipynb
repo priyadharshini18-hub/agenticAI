{
 "cells": [
  {
   "cell_type": "markdown",
   "id": "fb2bdaf0",
   "metadata": {},
   "source": []
  },
  {
   "cell_type": "code",
   "execution_count": 5,
   "id": "25274143",
   "metadata": {},
   "outputs": [
    {
     "name": "stdout",
     "output_type": "stream",
     "text": [
      "* Running on local URL:  http://127.0.0.1:7864\n",
      "* To create a public link, set `share=True` in `launch()`.\n"
     ]
    },
    {
     "data": {
      "text/html": [
       "<div><iframe src=\"http://127.0.0.1:7864/\" width=\"100%\" height=\"500\" allow=\"autoplay; camera; microphone; clipboard-read; clipboard-write;\" frameborder=\"0\" allowfullscreen></iframe></div>"
      ],
      "text/plain": [
       "<IPython.core.display.HTML object>"
      ]
     },
     "metadata": {},
     "output_type": "display_data"
    },
    {
     "data": {
      "text/plain": []
     },
     "execution_count": 5,
     "metadata": {},
     "output_type": "execute_result"
    }
   ],
   "source": [
    "import gradio as gr\n",
    "import asyncio\n",
    "import time\n",
    "\n",
    "# ----------------------------\n",
    "# Async version of greeting\n",
    "# ----------------------------\n",
    "async def async_greet(name):\n",
    "    await asyncio.sleep(1)  # non-blocking wait\n",
    "    return f\"Hello, {name}! (async)\"\n",
    "\n",
    "# ----------------------------\n",
    "# Sync version of greeting\n",
    "# ----------------------------\n",
    "def sync_greet(name):\n",
    "    time.sleep(5)  # blocking wait\n",
    "    return f\"Hello, {name}! (sync)\"\n",
    "\n",
    "# ----------------------------\n",
    "# Build Gradio app\n",
    "# ----------------------------\n",
    "with gr.Blocks() as demo:\n",
    "    gr.Markdown(\"## Gradio Greeting App\")\n",
    "\n",
    "    name_input = gr.Textbox(label=\"Enter your name\")\n",
    "    async_output = gr.Textbox(label=\"Async Greeting\")\n",
    "    sync_output = gr.Textbox(label=\"Sync Greeting\")\n",
    "\n",
    "    # Async button\n",
    "    gr.Button(\"Greet Async\").click(async_greet, inputs=name_input, outputs=async_output)\n",
    "\n",
    "    # Sync button\n",
    "    gr.Button(\"Greet Sync\").click(sync_greet, inputs=name_input, outputs=sync_output)\n",
    "\n",
    "demo.launch()\n"
   ]
  },
  {
   "cell_type": "code",
   "execution_count": 8,
   "id": "c65cab18",
   "metadata": {},
   "outputs": [
    {
     "name": "stdout",
     "output_type": "stream",
     "text": [
      "Async start\n",
      "Async done\n",
      "Sync start\n",
      "Sync done\n"
     ]
    }
   ],
   "source": [
    "import asyncio\n",
    "import time\n",
    "\n",
    "# Blocking function\n",
    "def blocking_task():\n",
    "    print(\"Sync start\")\n",
    "    time.sleep(1)\n",
    "    print(\"Sync done\")\n",
    "\n",
    "# Async function\n",
    "async def async_task():\n",
    "    print(\"Async start\")\n",
    "    await asyncio.sleep(5)\n",
    "    print(\"Async done\")\n",
    "\n",
    "# Main coroutine\n",
    "async def main():\n",
    "    await async_task() \n",
    "    blocking_task()          # This will block the loop\n",
    "          # Runs after the blocking task finishes\n",
    "\n",
    "# In Jupyter, use:\n",
    "await main()\n"
   ]
  },
  {
   "cell_type": "code",
   "execution_count": null,
   "id": "e6e991a1",
   "metadata": {},
   "outputs": [],
   "source": []
  }
 ],
 "metadata": {
  "kernelspec": {
   "display_name": ".venv",
   "language": "python",
   "name": "python3"
  },
  "language_info": {
   "codemirror_mode": {
    "name": "ipython",
    "version": 3
   },
   "file_extension": ".py",
   "mimetype": "text/x-python",
   "name": "python",
   "nbconvert_exporter": "python",
   "pygments_lexer": "ipython3",
   "version": "3.12.11"
  }
 },
 "nbformat": 4,
 "nbformat_minor": 5
}
